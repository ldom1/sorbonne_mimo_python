{
 "cells": [
  {
   "cell_type": "markdown",
   "metadata": {},
   "source": [
    "# 5 - Manipulation de données avec Pandas\n",
    "\n",
    "[Pandas](https://pandas.pydata.org/) est une bibliothèque Python essentielle pour la manipulation et l'analyse de données. Elle permet de travailler avec des tableaux à deux dimensions, appelés DataFrames, où chaque ligne représente un enregistrement et chaque colonne un champ.\n",
    "\n",
    "Dans ce notebook, nous allons voir comment manipuler des DataFrames avec Pandas. Nous allons apprendre à lire et écrire des données, à sélectionner, filtrer, trier et regrouper des données, à calculer des statistiques et à fusionner des DataFrames.\n",
    "\n",
    "<style>\n",
    ".notion-blockquote {\n",
    "    background-color: #f9f9f9;\n",
    "    border-left: 5px solid #ccc;\n",
    "    padding: 10px;\n",
    "    font-style: italic;\n",
    "    color: #555;\n",
    "}\n",
    "</style>\n",
    "\n",
    "<div class=\"notion-blockquote\">\n",
    "    <strong>Notions fondamentales</strong>\n",
    "    <ul>\n",
    "        <li><strong>Installation et importation de Pandas</strong> : Savoir comment installer Pandas et l'importer dans un script Python.</li>\n",
    "        <li><strong>Création de DataFrames</strong> : Comprendre comment créer des DataFrames à partir de diverses sources de données (CSV, Excel, JSON, etc.).</li>\n",
    "        <li><strong>Sélection de données</strong> : Maîtriser les différentes méthodes de sélection de données dans un DataFrame (par index, par nom de colonne, avec <code>loc</code>, <code>iloc</code>, etc.).</li>\n",
    "        <li><strong>Manipulation de colonnes</strong> : Savoir ajouter, modifier et supprimer des colonnes dans un DataFrame.</li>\n",
    "        <li><strong>Filtrage et tri des données</strong> : Apprendre à filtrer les données en fonction de conditions et à trier les DataFrames.</li>\n",
    "        <li><strong>Gestion des valeurs manquantes</strong> : Comprendre comment identifier et traiter les valeurs manquantes dans un DataFrame.</li>\n",
    "        <li><strong>Aggrégation de données</strong> : Utiliser des fonctions d'agrégation pour calculer des statistiques sur des groupes de données.</li>\n",
    "    </ul>\n",
    "</div>\n",
    "\n",
    "Nous allons étudier cette librairie en nous basant sur les données des communes de France.\n",
    "\n",
    "Nous allons ensuite sur 2 cas d'usage:\n",
    "- Cas d'usage n°1: Voici à quoi ressemblerait le monde si la glace continentale venait à fondre.\n",
    "- Cas d'usage n°2: Les Tonnes de marchandises transportées comme indicateur de la situation économique - Jean-Marc Jancovici\n"
   ]
  },
  {
   "cell_type": "markdown",
   "metadata": {},
   "source": [
    "# Introduction à Pandas\n",
    "\n",
    "- Lire un DataFrame\n",
    "- Afficher les premières lignes\n",
    "- Afficher les dernières lignes\n",
    "- Afficher les informations du DataFrame\n",
    "- Afficher les statistiques du DataFrame"
   ]
  },
  {
   "cell_type": "code",
   "execution_count": null,
   "metadata": {},
   "outputs": [],
   "source": [
    "import pandas as pd\n",
    "\n",
    "# Lire un DataFrame à partir d'un fichier CSV\n",
    "df = pd.read_csv(\"data/communes-france-2025.csv\")"
   ]
  },
  {
   "cell_type": "code",
   "execution_count": null,
   "metadata": {},
   "outputs": [],
   "source": [
    "# Afficher les 3 premières lignes du DataFrame\n",
    "df.head(3)"
   ]
  },
  {
   "cell_type": "code",
   "execution_count": null,
   "metadata": {},
   "outputs": [],
   "source": [
    "# Afficher les 3 dernières lignes du DataFrame\n",
    "df.tail(3)"
   ]
  },
  {
   "cell_type": "code",
   "execution_count": null,
   "metadata": {},
   "outputs": [],
   "source": [
    "# Aperçu statistique des colonnes numériques\n",
    "df.describe(include=\"all\")"
   ]
  },
  {
   "cell_type": "code",
   "execution_count": null,
   "metadata": {},
   "outputs": [],
   "source": [
    "# Afficher les noms des colonnes\n",
    "df.columns"
   ]
  },
  {
   "cell_type": "markdown",
   "metadata": {},
   "source": [
    "# Manipuler les données\n",
    "\n",
    "## 1 - Sélection & filtres\n",
    "\n",
    "Il est possible de sélectionner les éléments d'un tableau Pandas de multiples manières:\n",
    "\n",
    "- `df[debut:fin:pas]` : sélectionne les lignes indiquées\n",
    "- `df[<liste de noms de colonnes>]` : sélectionne les colonnes indiquées\n",
    "- `df['nom de colonne']` : sélectionne une colonne\n",
    "- `df.nom_de_colonne` : sélectionne une colonne (sous réserve que le nom n'a pas de caractère de ponctuation)\n",
    "ou encore avec `loc`, `iloc`, `at`, `iat`\n",
    "\n",
    "### Exemple de sélection\n",
    "- Sélectionner des lignes spécifiques\n",
    "- Sélectionner des colonnes spécifiques"
   ]
  },
  {
   "cell_type": "code",
   "execution_count": null,
   "metadata": {},
   "outputs": [],
   "source": [
    "# Sélectionner des lignes spécifiques\n",
    "df[10:20:2]"
   ]
  },
  {
   "cell_type": "code",
   "execution_count": null,
   "metadata": {},
   "outputs": [],
   "source": [
    "# Sélectionner des colonnes spécifiques\n",
    "cols = [\n",
    "    \"code_insee\",\n",
    "    \"nom_standard\",\n",
    "    \"latitude_mairie\",\n",
    "    \"longitude_mairie\",\n",
    "    \"altitude_minimale\",\n",
    "    \"altitude_maximale\",\n",
    "]\n",
    "df[cols]"
   ]
  },
  {
   "cell_type": "markdown",
   "metadata": {},
   "source": [
    "On peut mixer les sélections de lignes et de colonnes..."
   ]
  },
  {
   "cell_type": "code",
   "execution_count": null,
   "metadata": {},
   "outputs": [],
   "source": [
    "# Sélectionner des lignes et des colonnes spécifiques\n",
    "df[cols][10:20:2]"
   ]
  },
  {
   "cell_type": "code",
   "execution_count": null,
   "metadata": {},
   "outputs": [],
   "source": [
    "# Utiliser les noms des colonnes avec loc\n",
    "df.loc[10:20:2, cols]"
   ]
  },
  {
   "cell_type": "markdown",
   "metadata": {},
   "source": [
    "Une colonne ou une ligne d'un DataFrame Pandas est un vecteur numpy avec un index des lignes.  \n",
    "Son type s'appelle une `Série`."
   ]
  },
  {
   "cell_type": "code",
   "execution_count": null,
   "metadata": {},
   "outputs": [],
   "source": [
    "# Vérifier le type d'une colonne\n",
    "type(df[\"code_insee\"])  # Une colonne est un objet Series"
   ]
  },
  {
   "cell_type": "code",
   "execution_count": null,
   "metadata": {},
   "outputs": [],
   "source": [
    "# Vérifier le type d'une ligne\n",
    "type(df.iloc[0])  # Une ligne est un objet Series"
   ]
  },
  {
   "cell_type": "code",
   "execution_count": null,
   "metadata": {},
   "outputs": [],
   "source": [
    "# Sélectionner une colonne\n",
    "population = df[\"population\"]\n",
    "population"
   ]
  },
  {
   "cell_type": "code",
   "execution_count": null,
   "metadata": {},
   "outputs": [],
   "source": [
    "# Afficher toutes les méthodes disponibles pour un objet Series\n",
    "print(dir(population))"
   ]
  },
  {
   "cell_type": "markdown",
   "metadata": {},
   "source": [
    "Il est possible de manipuler les colonnes numériques comme des tableaux \n",
    "numpy, l'index sert juste à la sélection"
   ]
  },
  {
   "cell_type": "code",
   "execution_count": null,
   "metadata": {},
   "outputs": [],
   "source": [
    "# Afficher les premières lignes de la colonne population\n",
    "population.head()"
   ]
  },
  {
   "cell_type": "markdown",
   "metadata": {},
   "source": [
    "## 2 - Opérations\n",
    "\n",
    "Il est possible d'effectuer des opérations facilement sur les données numériques et également d'effectuer des opérations sur les colonnes (min, max etc ...)"
   ]
  },
  {
   "cell_type": "code",
   "execution_count": null,
   "metadata": {},
   "outputs": [],
   "source": [
    "# Multiplier les valeurs de la colonne population par 100\n",
    "r = population * 100\n",
    "r.head()"
   ]
  },
  {
   "cell_type": "code",
   "execution_count": null,
   "metadata": {},
   "outputs": [],
   "source": [
    "# Calculer des statistiques sur la colonne population\n",
    "min_pop, max_pop, sum_pop, std_pop, avg_pop = (\n",
    "    population.min(),\n",
    "    population.max(),\n",
    "    population.sum(),\n",
    "    population.std(),\n",
    "    population.mean(),\n",
    ")\n",
    "\n",
    "print(f\"La ville ayant la plus petite population a {min_pop} habitants.\")\n",
    "print(f\"La ville ayant la plus grande population a {max_pop} habitants.\")\n",
    "print(f\"La population totale est de {sum_pop} habitants.\")\n",
    "print(f\"L'écart-type de la population est de {std_pop:.2f} habitants.\")\n",
    "print(f\"La population moyenne est de {avg_pop:.2f} habitants / ville.\")"
   ]
  },
  {
   "cell_type": "markdown",
   "metadata": {},
   "source": [
    "Et aussi, comme pour numpy, d'appliquer des conditions"
   ]
  },
  {
   "cell_type": "code",
   "execution_count": null,
   "metadata": {},
   "outputs": [],
   "source": [
    "# Appliquer une condition sur la colonne population\n",
    "cond = population >= 1000\n",
    "cond.head()"
   ]
  },
  {
   "cell_type": "markdown",
   "metadata": {},
   "source": [
    "Ce qui permet de faire des sélections sans écrire aucune boucle `for`.  \n",
    "\n",
    "Si vous écrivez une boucle `for` avec *Pandas* c'est que vous vous y prenez mal...\n"
   ]
  },
  {
   "cell_type": "code",
   "execution_count": null,
   "metadata": {},
   "outputs": [],
   "source": [
    "# Sélectionner les villes avec une population supérieure à 200 000\n",
    "df[df.population >= 200_000]"
   ]
  },
  {
   "cell_type": "markdown",
   "metadata": {},
   "source": [
    "#### Exercice\n",
    "\n",
    "1. Créer un nouveau dataframe contenant uniquement les colonnes: `nom_standard`, `population`, `superficie_km2`, `densite`\n",
    "\n",
    "2. Calculer une approximation de la population en vous basant sur la densité de population & la superficie de la ville\n",
    "\n",
    "3. Quel est l'écart moyen et l'écart type entre la population réelle et la population calculée ? \n",
    "\n",
    "4. Quelle est la superficie moyenne et la densité moyenne des villes ayant plus de 200 000 habitants ? Des villes de moins de 15 000 habitants ?\n",
    "\n"
   ]
  },
  {
   "cell_type": "code",
   "execution_count": null,
   "metadata": {},
   "outputs": [],
   "source": [
    "### A vous de jouer"
   ]
  },
  {
   "cell_type": "markdown",
   "metadata": {},
   "source": [
    "## 3 - Visualisation\n",
    "\n",
    "Il est possible de visualiser les données avec Pandas, notamment avec des graphiques simples."
   ]
  },
  {
   "cell_type": "code",
   "execution_count": null,
   "metadata": {},
   "outputs": [],
   "source": [
    "import matplotlib.pyplot as plt\n",
    "\n",
    "# Définir un seuil de population\n",
    "min_treshold = 200_000\n",
    "\n",
    "# Créer un graphique à barres pour les villes avec une population supérieure au seuil\n",
    "df[df.population >= min_treshold].plot(\n",
    "    kind=\"bar\",\n",
    "    x=\"nom_standard\",\n",
    "    y=\"population\",\n",
    "    title=f\"Villes de plus de {min_treshold} habitants\",\n",
    "    xlabel=\"Ville\",\n",
    "    ylabel=\"Population\",\n",
    ")"
   ]
  },
  {
   "cell_type": "code",
   "execution_count": null,
   "metadata": {},
   "outputs": [],
   "source": [
    "# Créer un histogramme pour les villes avec une population inférieure ou égale à 10 000\n",
    "df[df.population <= 10_000].plot(\n",
    "    kind=\"hist\",\n",
    "    y=\"population\",\n",
    "    bins=500,\n",
    "    title=\"Répartition de la population des communes\",\n",
    "    xlabel=\"Population\",\n",
    "    ylabel=\"Nombre de communes\",\n",
    ")"
   ]
  },
  {
   "cell_type": "markdown",
   "metadata": {},
   "source": [
    "### Exercice\n",
    "\n",
    "##### 1. Affichez la carte de France des villes avec matplotlib représentée par un nuage de points.\n",
    "Sachant que les colonnes d'un tableau Pandas peuvent être passées directement en paramètres des fonctions de matplotlib:\n",
    "\n",
    "- 1.a. Afficher un point par ville (latitude_mairie et longitude_mairie)\n",
    "\n",
    "- 1.b., avec une taille proportionnelle à la population (population)\n",
    "\n",
    "- 1.c., avec une couleur liée à l'altitude (altitude_maximale)\n",
    "\n",
    "### Si vous avez déjà fini:\n",
    "\n",
    "##### 2. Affichez la carte de France métropolitaine représentée par un nuage de points.\n",
    "Selectionnez uniquement les départements de France métropolitaine (code département < 100)\n",
    "\n",
    "Répétez les mêmes graphiques, attention au type de dep_code\n",
    "\n",
    "Vous pourriez avoir besoin de relire le fichier des villes en précisant le type de la colonne département ou de modifier la colonne en changeant son type\n",
    "\n",
    "##### 3. Ajouter sur le graphique en rouge les villes ayant plus de 500 000 habitants\n",
    "\n",
    "##### 4. Calculer la population de votre département\n",
    "\n",
    "##### 5. Calculer l'altitude la plus haute et lister les villes à cette altitude\n",
    "\n",
    "##### 6. Lister les 10 villes les plus peuplées en 2012.\n",
    "Méthodes utiles:\n",
    "- sort_values\n",
    "- nlargest\n"
   ]
  },
  {
   "cell_type": "code",
   "execution_count": null,
   "metadata": {},
   "outputs": [],
   "source": [
    "### A vous de jouer !"
   ]
  },
  {
   "cell_type": "markdown",
   "metadata": {},
   "source": [
    "## 4. Agrégations\n",
    "\n",
    "Il est possible d'appliquer des fonctions sur des groupes de lignes et colonnes:\n",
    "* Pour cela il convient de grouper les lignes sur certains critères (une valeur commune).  \n",
    "* Dans ce cas la fonction s'appliquera sur chacun des groupes définis par l'aggrégation."
   ]
  },
  {
   "cell_type": "code",
   "execution_count": null,
   "metadata": {},
   "outputs": [],
   "source": [
    "# Calculer la population totale de chaque département : Mauvaise solution\n",
    "import time\n",
    "\n",
    "start_time = time.time()\n",
    "\n",
    "population_par_departement = {}\n",
    "\n",
    "for ind, d in enumerate(df.dep_code.unique()):\n",
    "    population_par_departement[d] = df[df.dep_code == d].population.sum()\n",
    "\n",
    "print(\"Temps d'exécution:\", time.time() - start_time, \"s.\")"
   ]
  },
  {
   "cell_type": "markdown",
   "metadata": {},
   "source": [
    "Cette solution n'est pas fabuleuse, il faut éviter les boucles for avec pandas.\n",
    "\n",
    "Pour cela il est possible de regrouper les enregistrements par département grâce à la fonction groupby."
   ]
  },
  {
   "cell_type": "code",
   "execution_count": null,
   "metadata": {},
   "outputs": [],
   "source": [
    "# Regrouper les enregistrements par département\n",
    "dep_code_gr = df.groupby(\"dep_code\")\n",
    "type(dep_code_gr)"
   ]
  },
  {
   "cell_type": "markdown",
   "metadata": {},
   "source": [
    "La variable deps est un dictionnaire (un peu évolué) contenant en clefs les valeurs uniques des départements et en valeurs les numéros de lignes des enregistrements de ce département"
   ]
  },
  {
   "cell_type": "code",
   "execution_count": null,
   "metadata": {},
   "outputs": [],
   "source": [
    "# Afficher les groupes pour quelques départements\n",
    "for ind, (k, v) in enumerate(dep_code_gr.groups.items()):\n",
    "    print(k, v)\n",
    "    if ind >= 3:\n",
    "        break"
   ]
  },
  {
   "cell_type": "markdown",
   "metadata": {},
   "source": [
    "Il est maintenant possible d'appliquer des fonctions sur deps, elles seront appliquées sur chaque groupe du dictionnaire"
   ]
  },
  {
   "cell_type": "code",
   "execution_count": null,
   "metadata": {},
   "outputs": [],
   "source": [
    "# Calculer la somme des valeurs pour chaque département\n",
    "values = [\"superficie_km2\", \"population\"]\n",
    "dep_code_gr[values].sum()"
   ]
  },
  {
   "cell_type": "markdown",
   "metadata": {},
   "source": [
    "La fonction `aggregate` permet quant-à elle de personnaliser les fonctions appliquées par colonne:"
   ]
  },
  {
   "cell_type": "code",
   "execution_count": null,
   "metadata": {},
   "outputs": [],
   "source": [
    "# Appliquer des fonctions personnalisées par colonne\n",
    "r = dep_code_gr.aggregate(\n",
    "    {\"population\": [\"min\", \"max\", \"sum\"], \"densite\": [\"min\", \"max\", \"mean\", \"std\"]}\n",
    ")\n",
    "r.head()"
   ]
  },
  {
   "cell_type": "code",
   "execution_count": null,
   "metadata": {},
   "outputs": [],
   "source": [
    "# Afficher les résultats pour la colonne densite\n",
    "r[\"densite\"].head()"
   ]
  },
  {
   "cell_type": "code",
   "execution_count": null,
   "metadata": {},
   "outputs": [],
   "source": [
    "# Vérifier le type des résultats\n",
    "type(r[\"densite\"].head())\n",
    "\n",
    "# C'est un DataFrame MultiIndex"
   ]
  },
  {
   "cell_type": "markdown",
   "metadata": {},
   "source": [
    "#### Exercice\n",
    "\n",
    "1. Créer un nouveau DataFrame contenant uniquement les colonnes : dep_code, nom_standard, population.\n",
    "\n",
    "2. Calculer la population totale par département.\n",
    "\n",
    "3. Quel est le département avec la plus grande population ?\n",
    "\n",
    "4. Calculer la moyenne de la population par département ? Quel est le département le plus peuplé en moyenne ? Le moins peuplé ?\n",
    "    - En une ligne de code, afficher le nom du département le plus peuplé et le nom du département le moins peuplé.\n",
    "\n",
    "5. Calculer les agrégations suivantes en une seule opération:\n",
    "    - La population totale par département\n",
    "    - La population moyenne par département\n",
    "    - La population minimale d'une ville par département\n",
    "    - La population maximale d'une ville par départ"
   ]
  },
  {
   "cell_type": "code",
   "execution_count": null,
   "metadata": {},
   "outputs": [],
   "source": [
    "### A vous de jouer"
   ]
  },
  {
   "cell_type": "markdown",
   "metadata": {},
   "source": [
    "## 5. Ajout, suppression et modification de colonnes\n",
    "\n",
    "Les colonnes d'un tableau Pandas se manipulent un peu comme pour un dictionnaire...\n",
    "\n",
    "#### Ajout\n",
    "Comme pour une clef d'un dictionnaire, on affecte la colonne."
   ]
  },
  {
   "cell_type": "code",
   "execution_count": null,
   "metadata": {},
   "outputs": [],
   "source": [
    "# Afficher les noms des colonnes\n",
    "df.columns"
   ]
  },
  {
   "cell_type": "code",
   "execution_count": null,
   "metadata": {},
   "outputs": [],
   "source": [
    "# Ajouter une nouvelle colonne\n",
    "df[\"denivele\"] = (\n",
    "    df.altitude_maximale - df.altitude_minimale\n",
    ")  # pd.DataFrame.__setitem__(self, key, value)\n",
    "df[[\"nom_standard\", \"dep_code\", \"denivele\", \"altitude_maximale\", \"altitude_minimale\"]]"
   ]
  },
  {
   "cell_type": "markdown",
   "metadata": {},
   "source": [
    "### Modification\n",
    "\n",
    "La modification est plus délicate, la sélection avec les simples crochets ne garantie pas de retourner les vraies données. Il est préférable d'utiliser les méthodes `loc` ou `iloc`."
   ]
  },
  {
   "cell_type": "code",
   "execution_count": null,
   "metadata": {},
   "outputs": [],
   "source": [
    "# Modifier les valeurs de la colonne denivele pour certaines lignes\n",
    "df[2:4][\"denivele\"] = 0"
   ]
  },
  {
   "cell_type": "code",
   "execution_count": null,
   "metadata": {},
   "outputs": [],
   "source": [
    "# Afficher les premières lignes pour vérifier la modification\n",
    "df[\n",
    "    [\"nom_standard\", \"dep_code\", \"denivele\", \"altitude_maximale\", \"altitude_minimale\"]\n",
    "].head()"
   ]
  },
  {
   "cell_type": "code",
   "execution_count": null,
   "metadata": {},
   "outputs": [],
   "source": [
    "# Vérifier que la modification n'a pas été appliquée\n",
    "df[2:4][\"denivele\"]  # non modifié"
   ]
  },
  {
   "cell_type": "code",
   "execution_count": null,
   "metadata": {},
   "outputs": [],
   "source": [
    "# Utiliser loc pour modifier les valeurs\n",
    "df.loc[2:3, \"denivele\"] = 0  # loc inclue la borne de fin\n",
    "df[2:4][\"denivele\"]"
   ]
  },
  {
   "cell_type": "code",
   "execution_count": null,
   "metadata": {},
   "outputs": [],
   "source": [
    "# Afficher des informations sur le DataFrame\n",
    "df.info()"
   ]
  },
  {
   "cell_type": "markdown",
   "metadata": {},
   "source": [
    "Voici un exemple plus explicite pour bien comprendre loc et iloc.\n",
    "\n",
    "Créons un tableau contenant uniquement les lignes de 100 à 199."
   ]
  },
  {
   "cell_type": "code",
   "execution_count": null,
   "metadata": {},
   "outputs": [],
   "source": [
    "# Créer un tableau contenant uniquement les lignes de 100 à 199\n",
    "sv = df[100:200].copy()\n",
    "sv.head()"
   ]
  },
  {
   "cell_type": "code",
   "execution_count": null,
   "metadata": {},
   "outputs": [],
   "source": [
    "# Afficher l'index du tableau\n",
    "sv.index"
   ]
  },
  {
   "cell_type": "markdown",
   "metadata": {},
   "source": [
    "- Dans ce tableau l'index des lignes commence à 100 et non plus à 0\n",
    "loc utilisera cet index\n",
    "\n",
    "- Tandis que les lignes de ce tableau ont toujours un indice qui commence à 0\n",
    "iloc utilisera ces indices"
   ]
  },
  {
   "cell_type": "code",
   "execution_count": null,
   "metadata": {},
   "outputs": [],
   "source": [
    "# Utiliser loc pour sélectionner des lignes et des colonnes\n",
    "sv.loc[101:103, [\"dep_code\", \"nom_standard\"]]  # 103 inclus !"
   ]
  },
  {
   "cell_type": "code",
   "execution_count": null,
   "metadata": {},
   "outputs": [],
   "source": [
    "# Utiliser iloc pour sélectionner des lignes et des colonnes\n",
    "sv.iloc[1:4, [1, 3]]  # 4 non inclus !"
   ]
  },
  {
   "cell_type": "markdown",
   "metadata": {},
   "source": [
    "#### Suppression d'une colonne\n",
    "Comme pour une clef d'un dictionnaire"
   ]
  },
  {
   "cell_type": "code",
   "execution_count": null,
   "metadata": {},
   "outputs": [],
   "source": [
    "# Afficher la colonne denivele\n",
    "df.denivele"
   ]
  },
  {
   "cell_type": "code",
   "execution_count": null,
   "metadata": {},
   "outputs": [],
   "source": [
    "# Supprimer la colonne denivele\n",
    "del df[\"denivele\"]"
   ]
  },
  {
   "cell_type": "code",
   "execution_count": null,
   "metadata": {},
   "outputs": [],
   "source": [
    "# Vérifier que la colonne a été supprimée\n",
    "df.denivele"
   ]
  },
  {
   "cell_type": "code",
   "execution_count": null,
   "metadata": {},
   "outputs": [],
   "source": [
    "# Ajouter à nouveau la colonne denivele\n",
    "df[\"denivele\"] = df.altitude_maximale - df.altitude_minimale"
   ]
  },
  {
   "cell_type": "code",
   "execution_count": null,
   "metadata": {},
   "outputs": [],
   "source": [
    "# Supprimer la colonne denivele en utilisant drop\n",
    "df = df.drop(columns=[\"denivele\"], axis=1)"
   ]
  },
  {
   "cell_type": "code",
   "execution_count": null,
   "metadata": {},
   "outputs": [],
   "source": [
    "# Vérifier que la colonne a été supprimée\n",
    "df.denivele"
   ]
  },
  {
   "cell_type": "markdown",
   "metadata": {},
   "source": [
    "#### Exercice\n",
    "\n",
    "1. Ajouter une nouvelle colonne population_par_km2 qui est le quotient de la population par la superficie en km².\n",
    "\n",
    "2. Supprimer la colonne population_par_km2.\n",
    "\n",
    "3. Ajouter une colonne est_grand qui vaut True si la superficie est supérieure à 100 km², sinon False.\n",
    "\n",
    "4. Calculer le nombre de villes considérées comme grandes (est_grand est True)."
   ]
  },
  {
   "cell_type": "code",
   "execution_count": null,
   "metadata": {},
   "outputs": [],
   "source": [
    "### A vous de jouer"
   ]
  },
  {
   "cell_type": "markdown",
   "metadata": {},
   "source": [
    "#### Manipuler les index"
   ]
  },
  {
   "cell_type": "code",
   "execution_count": null,
   "metadata": {},
   "outputs": [],
   "source": [
    "# Définir la colonne nom_standard comme index\n",
    "vnoms = df.set_index(\n",
    "    \"nom_standard\",  # la colonne nom devient l'index des lignes\n",
    "    drop=False,  # la colonne nom reste dans le tableau\n",
    ")\n",
    "vnoms.head()"
   ]
  },
  {
   "cell_type": "markdown",
   "metadata": {},
   "source": [
    "Par défaut, toutes les fonctions appliquées sur un tableau pandas retournent une copie des données SAUF si on leur passe le paramètre inplace=True"
   ]
  },
  {
   "cell_type": "code",
   "execution_count": null,
   "metadata": {},
   "outputs": [],
   "source": [
    "# Retourner une copie des données avec nom_standard comme index\n",
    "df.set_index(\"nom_standard\")"
   ]
  },
  {
   "cell_type": "code",
   "execution_count": null,
   "metadata": {},
   "outputs": [],
   "source": [
    "# Modifier le DataFrame en place avec nom_standard comme index\n",
    "df.set_index(\"nom_standard\", inplace=True)"
   ]
  },
  {
   "cell_type": "code",
   "execution_count": null,
   "metadata": {},
   "outputs": [],
   "source": [
    "# Afficher les premières lignes du DataFrame\n",
    "df.head()"
   ]
  },
  {
   "cell_type": "code",
   "execution_count": null,
   "metadata": {},
   "outputs": [],
   "source": [
    "# Réinitialiser l'index\n",
    "df.reset_index(inplace=True)"
   ]
  },
  {
   "cell_type": "code",
   "execution_count": null,
   "metadata": {},
   "outputs": [],
   "source": [
    "# Afficher le DataFrame\n",
    "df"
   ]
  },
  {
   "cell_type": "code",
   "execution_count": null,
   "metadata": {},
   "outputs": [],
   "source": [
    "# Mesurer le temps d'exécution pour sélectionner une ville par son nom\n",
    "%timeit r = df[df.nom_standard == 'Rouen']"
   ]
  },
  {
   "cell_type": "code",
   "execution_count": null,
   "metadata": {},
   "outputs": [],
   "source": [
    "# Définir nom_standard comme index et mesurer le temps d'exécution\n",
    "df.set_index(\"nom_standard\", inplace=True)\n",
    "%timeit r = df.loc['Rouen']"
   ]
  },
  {
   "cell_type": "code",
   "execution_count": null,
   "metadata": {},
   "outputs": [],
   "source": [
    "# Afficher les premières lignes de la ville sélectionnée\n",
    "df.loc[\"Rouen\"].head(2)"
   ]
  },
  {
   "cell_type": "code",
   "execution_count": null,
   "metadata": {},
   "outputs": [],
   "source": [
    "# Afficher le DataFrame\n",
    "df"
   ]
  },
  {
   "cell_type": "markdown",
   "metadata": {},
   "source": [
    "### Exercice de cartographie\n",
    "La librairie folium permet d'afficher des fonds de cartes à la GoogleMap/OpenStreetMap\n",
    "\n",
    "#### A faire:\n",
    "\n",
    "- Créer un jeu de données contenant uniquement les colonnes: nom_standard, latitude_mairie, longitude_mairie, population, grille_densite_texte\n",
    "- Centrer la carte sur la moyenne des coordonnées des villes de France\n",
    "- Utiliser les colonnes latitude_mairie et longitude_mairie\n",
    "- Lister 5 villes au hasard parmis les 10 plus peuplées et 5 villes au hasard parmis les 10 moins peuplées\n",
    "- Puis à l'aide de la fonction df.itertuples() afficher un marker par ville avec l'information de la densité de population"
   ]
  },
  {
   "cell_type": "code",
   "execution_count": null,
   "metadata": {},
   "outputs": [],
   "source": [
    "### A vous de jouer"
   ]
  }
 ],
 "metadata": {
  "kernelspec": {
   "display_name": ".venv",
   "language": "python",
   "name": "python3"
  },
  "language_info": {
   "codemirror_mode": {
    "name": "ipython",
    "version": 3
   },
   "file_extension": ".py",
   "mimetype": "text/x-python",
   "name": "python",
   "nbconvert_exporter": "python",
   "pygments_lexer": "ipython3",
   "version": "3.12.8"
  }
 },
 "nbformat": 4,
 "nbformat_minor": 4
}
